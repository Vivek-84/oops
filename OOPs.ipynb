{
 "cells": [
  {
   "cell_type": "markdown",
   "id": "772d72e7",
   "metadata": {},
   "source": [
    "# Create a vehicle class with an init method having instance variables as name_of_vehicle, max_speed and average_of_vehicle. "
   ]
  },
  {
   "cell_type": "code",
   "execution_count": 1,
   "id": "c74c2511",
   "metadata": {},
   "outputs": [],
   "source": [
    "class vehicle:\n",
    "    def __init__(self,name_of_vehicle,max_speed,avg_of_vehicle):\n",
    "        self.name_of_vehicle = \"Innova\"\n",
    "        self.max_speed = max_speed\n",
    "        self.avg_of_vehicle = avg_of_vehicle\n",
    "\n",
    "    def Info(self):\n",
    "        return(self.name_of_vehicle,self.max_speed,self.avg_of_vehicle)\n",
    "        "
   ]
  },
  {
   "cell_type": "code",
   "execution_count": 2,
   "id": "d27729be",
   "metadata": {},
   "outputs": [],
   "source": [
    "a = vehicle(\"Toyota\",250,15)"
   ]
  },
  {
   "cell_type": "code",
   "execution_count": 3,
   "id": "e4e8f191",
   "metadata": {},
   "outputs": [
    {
     "data": {
      "text/plain": [
       "('Innova', 250, 15)"
      ]
     },
     "execution_count": 3,
     "metadata": {},
     "output_type": "execute_result"
    }
   ],
   "source": [
    "a.Info()"
   ]
  },
  {
   "cell_type": "markdown",
   "id": "7fe3bb85",
   "metadata": {},
   "source": [
    "# Create a child class car from the vehicle class created in Que 1, which will inherit the vehicle class.Create a method named seating_capacity which takes capacity as an argument and returns the name of the vehicle and its seating capacity."
   ]
  },
  {
   "cell_type": "code",
   "execution_count": 4,
   "id": "f955b770",
   "metadata": {},
   "outputs": [],
   "source": [
    "class car(vehicle):\n",
    "    \n",
    "    def __init__(self,capacity):\n",
    "        self.capacity = capacity\n",
    "    def seating_capacity(self):\n",
    "        return(self.capacity)\n",
    "        \n",
    "    "
   ]
  },
  {
   "cell_type": "code",
   "execution_count": 5,
   "id": "5da1263c",
   "metadata": {},
   "outputs": [
    {
     "name": "stdout",
     "output_type": "stream",
     "text": [
      "Innova 500\n"
     ]
    }
   ],
   "source": [
    "b = car(500)\n",
    "a = vehicle(\"Innova\",300,15)\n",
    "print(a.name_of_vehicle,b.seating_capacity()) \n",
    "                        "
   ]
  },
  {
   "cell_type": "markdown",
   "id": "9e68dc01",
   "metadata": {},
   "source": [
    "# What is multiple inheritance? Write a python code to demonstrate multiple inheritance."
   ]
  },
  {
   "cell_type": "markdown",
   "id": "0d911ffd",
   "metadata": {},
   "source": [
    "Multiple Inheritence : If a chield class is associated with more then one Parent class Independently."
   ]
  },
  {
   "cell_type": "code",
   "execution_count": 8,
   "id": "b54d1f44",
   "metadata": {},
   "outputs": [
    {
     "data": {
      "text/plain": [
       "'This is content from Subject1'"
      ]
     },
     "execution_count": 8,
     "metadata": {},
     "output_type": "execute_result"
    }
   ],
   "source": [
    "class subject1:\n",
    "    def fun1(self):\n",
    "        return(\"This is content from Subject1\")\n",
    "class subject2:\n",
    "    def fun2(self):\n",
    "        return(\"This is content from subject2\")\n",
    "class subject(subject1,subject2):\n",
    "    pass\n",
    "a = subject()\n",
    "a.fun1()\n"
   ]
  },
  {
   "cell_type": "code",
   "execution_count": 9,
   "id": "be1a43c2",
   "metadata": {},
   "outputs": [
    {
     "data": {
      "text/plain": [
       "'This is content from subject2'"
      ]
     },
     "execution_count": 9,
     "metadata": {},
     "output_type": "execute_result"
    }
   ],
   "source": [
    "a.fun2()"
   ]
  },
  {
   "cell_type": "markdown",
   "id": "5d37364d",
   "metadata": {},
   "source": [
    "# What are getter and setter in python? Create a class and create a getter and a setter method in this class"
   ]
  },
  {
   "cell_type": "markdown",
   "id": "3aa4d0b0",
   "metadata": {},
   "source": [
    "Setter : It is a method by which we can change the value of an attribute of a given class.\n",
    "Getter : It is a method that allow us to access an attribute of a given class."
   ]
  },
  {
   "cell_type": "code",
   "execution_count": 14,
   "id": "5bc91507",
   "metadata": {},
   "outputs": [
    {
     "data": {
      "text/plain": [
       "10"
      ]
     },
     "execution_count": 14,
     "metadata": {},
     "output_type": "execute_result"
    }
   ],
   "source": [
    "class company:\n",
    "    def __init__(self,emp,location,product):\n",
    "        self.emp = emp\n",
    "        self.location = location\n",
    "        self.product = product\n",
    "    def set_emp(self,emp):\n",
    "        self.emp= 10 if emp < 10 else emp\n",
    "    def get_emp(self):\n",
    "        return self.emp\n",
    "a = company(50,\"Noida\",\"Real Estate\")\n",
    "a.set_emp(5)\n",
    "a.get_emp()"
   ]
  },
  {
   "cell_type": "markdown",
   "id": "e947e8d2",
   "metadata": {},
   "source": [
    "# What is method overriding in python? Write a python code to demonstrate method overriding."
   ]
  },
  {
   "cell_type": "markdown",
   "id": "b3334c6c",
   "metadata": {},
   "source": [
    "Overriding : It is a mehod of redefining the method of parent class in the child class in oops."
   ]
  },
  {
   "cell_type": "code",
   "execution_count": 16,
   "id": "3c205ea1",
   "metadata": {},
   "outputs": [
    {
     "data": {
      "text/plain": [
       "'GIT'"
      ]
     },
     "execution_count": 16,
     "metadata": {},
     "output_type": "execute_result"
    }
   ],
   "source": [
    "class Microsoft:\n",
    "    def __init__(self,product):\n",
    "        self.product = \"BING\"\n",
    "    def detail(self):    \n",
    "        return (self.product)\n",
    "\n",
    "class Github(Microsoft):\n",
    "    def __init__(self,product):\n",
    "        self.product = \"GIT\"\n",
    "        \n",
    "    def detail(self):\n",
    "        return (self.product)\n",
    "a = Github(\"abc\")\n",
    "a.detail() # it override the above detail\n",
    "        \n",
    "        "
   ]
  },
  {
   "cell_type": "code",
   "execution_count": null,
   "id": "e8b5ee6b",
   "metadata": {},
   "outputs": [],
   "source": []
  }
 ],
 "metadata": {
  "kernelspec": {
   "display_name": "Python 3 (ipykernel)",
   "language": "python",
   "name": "python3"
  },
  "language_info": {
   "codemirror_mode": {
    "name": "ipython",
    "version": 3
   },
   "file_extension": ".py",
   "mimetype": "text/x-python",
   "name": "python",
   "nbconvert_exporter": "python",
   "pygments_lexer": "ipython3",
   "version": "3.10.6"
  }
 },
 "nbformat": 4,
 "nbformat_minor": 5
}
